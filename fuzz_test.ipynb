{
 "cells": [
  {
   "cell_type": "code",
   "execution_count": 62,
   "id": "63a49170",
   "metadata": {},
   "outputs": [],
   "source": [
    "import pandas as pd\n",
    "from fuzzywuzzy import fuzz\n",
    "from fuzzywuzzy import process\n",
    "\n",
    "# Sample DataFrames\n",
    "df1 = pd.DataFrame({'ref_num': ['12 FAM 041.1', '12 FAM 041.2', '12 FAM 043.1', '12 FAM 043.2-1\\xa0', '12 FAM 081 (a)', '5 FAH-7 H-142', '5 FAM 741']})\n",
    "df2 = pd.DataFrame({'ref_num': ['12 FAM 041.1', '12 FAM 041.2', '12 FAM 043.1', '12 FAM 043.2-1 (a)', '12 FAM 081 (a)', '5 FAH-7 H-142', '5 FAM 741']})"
   ]
  },
  {
   "cell_type": "code",
   "execution_count": null,
   "id": "f7b503b0",
   "metadata": {},
   "outputs": [
    {
     "data": {
      "application/vnd.microsoft.datawrangler.viewer.v0+json": {
       "columns": [
        {
         "name": "index",
         "rawType": "int64",
         "type": "integer"
        },
        {
         "name": "ref_num",
         "rawType": "object",
         "type": "string"
        }
       ],
       "conversionMethod": "pd.DataFrame",
       "ref": "207b7741-8692-42d6-a3e9-6368717b99ce",
       "rows": [
        [
         "0",
         "12FAM0411"
        ],
        [
         "1",
         "12FAM0412"
        ],
        [
         "2",
         "12FAM0431"
        ],
        [
         "3",
         "12FAM04321"
        ],
        [
         "4",
         "12FAM081"
        ],
        [
         "5",
         "5FAH7H142"
        ],
        [
         "6",
         "5FAM741"
        ]
       ],
       "shape": {
        "columns": 1,
        "rows": 7
       }
      },
      "text/html": [
       "<div>\n",
       "<style scoped>\n",
       "    .dataframe tbody tr th:only-of-type {\n",
       "        vertical-align: middle;\n",
       "    }\n",
       "\n",
       "    .dataframe tbody tr th {\n",
       "        vertical-align: top;\n",
       "    }\n",
       "\n",
       "    .dataframe thead th {\n",
       "        text-align: right;\n",
       "    }\n",
       "</style>\n",
       "<table border=\"1\" class=\"dataframe\">\n",
       "  <thead>\n",
       "    <tr style=\"text-align: right;\">\n",
       "      <th></th>\n",
       "      <th>ref_num</th>\n",
       "    </tr>\n",
       "  </thead>\n",
       "  <tbody>\n",
       "    <tr>\n",
       "      <th>0</th>\n",
       "      <td>12FAM0411</td>\n",
       "    </tr>\n",
       "    <tr>\n",
       "      <th>1</th>\n",
       "      <td>12FAM0412</td>\n",
       "    </tr>\n",
       "    <tr>\n",
       "      <th>2</th>\n",
       "      <td>12FAM0431</td>\n",
       "    </tr>\n",
       "    <tr>\n",
       "      <th>3</th>\n",
       "      <td>12FAM04321</td>\n",
       "    </tr>\n",
       "    <tr>\n",
       "      <th>4</th>\n",
       "      <td>12FAM081</td>\n",
       "    </tr>\n",
       "    <tr>\n",
       "      <th>5</th>\n",
       "      <td>5FAH7H142</td>\n",
       "    </tr>\n",
       "    <tr>\n",
       "      <th>6</th>\n",
       "      <td>5FAM741</td>\n",
       "    </tr>\n",
       "  </tbody>\n",
       "</table>\n",
       "</div>"
      ],
      "text/plain": [
       "      ref_num\n",
       "0   12FAM0411\n",
       "1   12FAM0412\n",
       "2   12FAM0431\n",
       "3  12FAM04321\n",
       "4    12FAM081\n",
       "5   5FAH7H142\n",
       "6     5FAM741"
      ]
     },
     "execution_count": 63,
     "metadata": {},
     "output_type": "execute_result"
    }
   ],
   "source": [
    "# df1 will represent the dirty values, and may have some cleaning functions applied to them\n",
    "\n",
    "df1['ref_num'] = df1['ref_num'].str.replace(r'[^A-Zb-z0-9]', '', regex=True)\n",
    "df1['ref_num'] = df1['ref_num'].str.replace('.', '')\n",
    "df1['ref_num'] = df1['ref_num'].str.replace('5 FAH-7 H-142', 'H-142')"
   ]
  },
  {
   "cell_type": "code",
   "execution_count": null,
   "id": "43f5269f",
   "metadata": {},
   "outputs": [
    {
     "data": {
      "application/vnd.microsoft.datawrangler.viewer.v0+json": {
       "columns": [
        {
         "name": "index",
         "rawType": "int64",
         "type": "integer"
        },
        {
         "name": "ref_num",
         "rawType": "object",
         "type": "string"
        },
        {
         "name": "ref_num_match",
         "rawType": "object",
         "type": "string"
        },
        {
         "name": "similarity",
         "rawType": "int64",
         "type": "integer"
        }
       ],
       "conversionMethod": "pd.DataFrame",
       "ref": "b60c67d6-3505-4da0-8194-2c856aab73f5",
       "rows": [
        [
         "0",
         "12FAM0411",
         "12 FAM 041.1",
         "86"
        ],
        [
         "1",
         "12FAM0412",
         "12 FAM 041.2",
         "86"
        ],
        [
         "2",
         "12FAM0431",
         "12 FAM 043.1",
         "86"
        ],
        [
         "3",
         "12FAM04321",
         "12 FAM 043.1",
         "82"
        ],
        [
         "4",
         "12FAM081",
         "12 FAM 081 (a)",
         "76"
        ],
        [
         "5",
         "5FAH7H142",
         "5 FAH-7 H-142",
         "82"
        ],
        [
         "6",
         "5FAM741",
         "5 FAM 741",
         "88"
        ]
       ],
       "shape": {
        "columns": 3,
        "rows": 7
       }
      },
      "text/html": [
       "<div>\n",
       "<style scoped>\n",
       "    .dataframe tbody tr th:only-of-type {\n",
       "        vertical-align: middle;\n",
       "    }\n",
       "\n",
       "    .dataframe tbody tr th {\n",
       "        vertical-align: top;\n",
       "    }\n",
       "\n",
       "    .dataframe thead th {\n",
       "        text-align: right;\n",
       "    }\n",
       "</style>\n",
       "<table border=\"1\" class=\"dataframe\">\n",
       "  <thead>\n",
       "    <tr style=\"text-align: right;\">\n",
       "      <th></th>\n",
       "      <th>ref_num</th>\n",
       "      <th>ref_num_match</th>\n",
       "      <th>similarity</th>\n",
       "    </tr>\n",
       "  </thead>\n",
       "  <tbody>\n",
       "    <tr>\n",
       "      <th>0</th>\n",
       "      <td>12FAM0411</td>\n",
       "      <td>12 FAM 041.1</td>\n",
       "      <td>86</td>\n",
       "    </tr>\n",
       "    <tr>\n",
       "      <th>1</th>\n",
       "      <td>12FAM0412</td>\n",
       "      <td>12 FAM 041.2</td>\n",
       "      <td>86</td>\n",
       "    </tr>\n",
       "    <tr>\n",
       "      <th>2</th>\n",
       "      <td>12FAM0431</td>\n",
       "      <td>12 FAM 043.1</td>\n",
       "      <td>86</td>\n",
       "    </tr>\n",
       "    <tr>\n",
       "      <th>3</th>\n",
       "      <td>12FAM04321</td>\n",
       "      <td>12 FAM 043.1</td>\n",
       "      <td>82</td>\n",
       "    </tr>\n",
       "    <tr>\n",
       "      <th>4</th>\n",
       "      <td>12FAM081</td>\n",
       "      <td>12 FAM 081 (a)</td>\n",
       "      <td>76</td>\n",
       "    </tr>\n",
       "    <tr>\n",
       "      <th>5</th>\n",
       "      <td>5FAH7H142</td>\n",
       "      <td>5 FAH-7 H-142</td>\n",
       "      <td>82</td>\n",
       "    </tr>\n",
       "    <tr>\n",
       "      <th>6</th>\n",
       "      <td>5FAM741</td>\n",
       "      <td>5 FAM 741</td>\n",
       "      <td>88</td>\n",
       "    </tr>\n",
       "  </tbody>\n",
       "</table>\n",
       "</div>"
      ],
      "text/plain": [
       "      ref_num   ref_num_match  similarity\n",
       "0   12FAM0411    12 FAM 041.1          86\n",
       "1   12FAM0412    12 FAM 041.2          86\n",
       "2   12FAM0431    12 FAM 043.1          86\n",
       "3  12FAM04321    12 FAM 043.1          82\n",
       "4    12FAM081  12 FAM 081 (a)          76\n",
       "5   5FAH7H142   5 FAH-7 H-142          82\n",
       "6     5FAM741       5 FAM 741          88"
      ]
     },
     "execution_count": 73,
     "metadata": {},
     "output_type": "execute_result"
    }
   ],
   "source": [
    "def fuzzy_lookup(source_df, target_df, source_col, target_col) -> pd.DataFrame():\n",
    "    '''\n",
    "        source_df: dataframe with the column/strings to lookup\n",
    "        target_df: dataframe where you want to find matching values\n",
    "        returns: dataframe\n",
    "    '''\n",
    "    threshold = .7\n",
    "    matches = []\n",
    "    for source_val in source_df[source_col]:\n",
    "        best_match = process.extractOne(\n",
    "            source_val,\n",
    "            target_df[target_col],\n",
    "            scorer=fuzz.ratio\n",
    "        )\n",
    "        if best_match and best_match[1] >= threshold:\n",
    "            matches.append((source_val, best_match[0], best_match[1]))\n",
    "        else:\n",
    "            matches.append((source_val, None, None))\n",
    "    return pd.DataFrame(matches, columns=[source_col, f'{target_col}_match', 'similarity'])\n",
    "\n",
    "fuzzy_lookup(df1, df2, 'ref_num', 'ref_num')\n",
    "\n"
   ]
  }
 ],
 "metadata": {
  "kernelspec": {
   "display_name": "base",
   "language": "python",
   "name": "python3"
  },
  "language_info": {
   "codemirror_mode": {
    "name": "ipython",
    "version": 3
   },
   "file_extension": ".py",
   "mimetype": "text/x-python",
   "name": "python",
   "nbconvert_exporter": "python",
   "pygments_lexer": "ipython3",
   "version": "3.12.7"
  }
 },
 "nbformat": 4,
 "nbformat_minor": 5
}
